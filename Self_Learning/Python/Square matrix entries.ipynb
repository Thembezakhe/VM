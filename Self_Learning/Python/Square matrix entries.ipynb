{
 "cells": [
  {
   "cell_type": "code",
   "execution_count": 3,
   "id": "d20bf76b",
   "metadata": {},
   "outputs": [
    {
     "name": "stdout",
     "output_type": "stream",
     "text": [
      "[[1, 4, 9], [16, 25, 36], [49, 64, 81]]\n"
     ]
    }
   ],
   "source": [
    "def square_matrix_simple(matrix=[]):\n",
    "    result = []\n",
    "    for sublist in matrix:\n",
    "        row = []\n",
    "        for item in sublist:\n",
    "            row.append(item**2)\n",
    "        result.append(row)\n",
    "    return result\n",
    "\n",
    "matrix = [\n",
    "    [1, 2, 3],\n",
    "    [4, 5, 6],\n",
    "    [7, 8, 9]\n",
    "]\n",
    "\n",
    "new_matrix = square_matrix_simple(matrix)\n",
    "print(new_matrix)"
   ]
  },
  {
   "cell_type": "code",
   "execution_count": null,
   "id": "f3aab6df",
   "metadata": {},
   "outputs": [],
   "source": []
  }
 ],
 "metadata": {
  "kernelspec": {
   "display_name": "Python 3 (ipykernel)",
   "language": "python",
   "name": "python3"
  },
  "language_info": {
   "codemirror_mode": {
    "name": "ipython",
    "version": 3
   },
   "file_extension": ".py",
   "mimetype": "text/x-python",
   "name": "python",
   "nbconvert_exporter": "python",
   "pygments_lexer": "ipython3",
   "version": "3.9.13"
  }
 },
 "nbformat": 4,
 "nbformat_minor": 5
}
