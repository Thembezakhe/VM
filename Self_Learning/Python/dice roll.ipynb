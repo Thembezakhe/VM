{
 "cells": [
  {
   "cell_type": "code",
   "execution_count": 6,
   "id": "eb8aea0d",
   "metadata": {},
   "outputs": [
    {
     "name": "stdout",
     "output_type": "stream",
     "text": [
      "{1: 1, 2: 1, 3: 6, 4: 3, 5: 2}\n"
     ]
    }
   ],
   "source": [
    "import random\n",
    "def dice(num_of_rolls, seed):\n",
    "    rolled_list = []\n",
    "    random.seed(seed)\n",
    "\n",
    "    for i in range(0,num_of_rolls+1):\n",
    "        rolled_list.append(random.randint(1,6))\n",
    "        dict_of_rolls = {i : rolled_list[i] for i in range(1, len(rolled_list) )}\n",
    "        \n",
    "    return dict_of_rolls\n",
    "print(dice(5,42))"
   ]
  },
  {
   "cell_type": "code",
   "execution_count": null,
   "id": "23dc6d86",
   "metadata": {},
   "outputs": [],
   "source": []
  }
 ],
 "metadata": {
  "kernelspec": {
   "display_name": "Python 3 (ipykernel)",
   "language": "python",
   "name": "python3"
  },
  "language_info": {
   "codemirror_mode": {
    "name": "ipython",
    "version": 3
   },
   "file_extension": ".py",
   "mimetype": "text/x-python",
   "name": "python",
   "nbconvert_exporter": "python",
   "pygments_lexer": "ipython3",
   "version": "3.9.13"
  }
 },
 "nbformat": 4,
 "nbformat_minor": 5
}
