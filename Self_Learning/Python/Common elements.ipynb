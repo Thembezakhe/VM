{
 "cells": [
  {
   "cell_type": "code",
   "execution_count": 8,
   "id": "59b930a9",
   "metadata": {},
   "outputs": [
    {
     "name": "stdout",
     "output_type": "stream",
     "text": [
      "['Bash', 'C']\n"
     ]
    }
   ],
   "source": [
    "def common_elements(set_1, set_2):\n",
    "    return (set_1 & set_2)\n",
    "\n",
    "set_1 = { \"Python\", \"C\", \"Javascript\", \"Bash\" }\n",
    "set_2 = { \"Bash\", \"C\", \"Ruby\", \"Perl\" }\n",
    "c_set = common_elements(set_1, set_2)\n",
    "print(sorted(list(c_set)))"
   ]
  },
  {
   "cell_type": "code",
   "execution_count": null,
   "id": "06e485be",
   "metadata": {},
   "outputs": [],
   "source": []
  }
 ],
 "metadata": {
  "kernelspec": {
   "display_name": "Python 3 (ipykernel)",
   "language": "python",
   "name": "python3"
  },
  "language_info": {
   "codemirror_mode": {
    "name": "ipython",
    "version": 3
   },
   "file_extension": ".py",
   "mimetype": "text/x-python",
   "name": "python",
   "nbconvert_exporter": "python",
   "pygments_lexer": "ipython3",
   "version": "3.9.13"
  }
 },
 "nbformat": 4,
 "nbformat_minor": 5
}
